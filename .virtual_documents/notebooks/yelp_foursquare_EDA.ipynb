# imports
import requests
import pandas as pd
import os








import os
import requests
import pandas as pd

# Load bike stations data
bike_stations = pd.read_csv('../data/bike_stations_madrid.csv')

url = "https://api.foursquare.com/v3/places/search"
headers = {
    'Accept': 'application/json',
    'Authorization': os.getenv('FOURSQUARE_KEY')  # Your Foursquare API key from the environment variable
}

# Function to request Foursquare places for a given bike station
def fetch_pois_foursquare(item, index):
    params = {
        'll': f"{item['latitude']},{item['longitude']}",  # Latitude and longitude from the row
        'radius': 1000, 
        'query': 'restaurant' 
    }
    
    # Print the status for each row before making the request
    print(f"Processing row {index + 1}/{len(bike_stations)}: Station {item['name']} at ({item['latitude']}, {item['longitude']})")
    
    # Make the API request
    response = requests.get(url, headers=headers, params=params)
    
    if response.status_code == 200:
        results = response.json().get('results', [])
        return pd.Series([item['name'], results])
    else:
        return pd.Series([item['name'], f"Error: {response.status_code}"])

# Apply the function to all rows of the DataFrame, passing the index using a modified approach
foursquare_places = bike_stations.apply(lambda row: fetch_pois_foursquare(row, row.name), axis=1, result_type="expand")

# Rename columns for clarity
foursquare_places.columns = ['Station Name', 'Foursquare Results']

# Display the DataFrame (optional)
print(foursquare_places.head())






# Initialize a list to store all restaurant details in one go
restaurant_details = []

# Function to extract details from Foursquare results
def extract_details(row):
    # Check if 'Foursquare Results' is a list and not a string
    if isinstance(row['Foursquare Results'], list):
        # Iterate over the restaurants in the Foursquare results
        for restaurant in row['Foursquare Results']:
            restaurant_info = {
                'station_name': row['Station Name'],
                'restaurant_name': restaurant.get('name', 'No name'),
                'distance': restaurant.get('distance', 'No distance'),
                'address': restaurant.get('location', {}).get('formatted_address', 'No address'),
                'categories': ', '.join([category.get('name', 'No category') for category in restaurant.get('categories', [])])
            }
            restaurant_details.append(restaurant_info)
    else:
        # If 'Foursquare Results' is not a list, you can print the row to debug
        print(f"Skipping row {row['Station Name']} due to invalid data: {row['Foursquare Results']}")

# Extract details for all rows in one go
foursquare_places.apply(extract_details, axis=1)







# Convert the list of restaurant details into a DataFrame
foursquare_restaurants = pd.DataFrame(restaurant_details)

# Display the resulting DataFrame
print(foursquare_restaurants.head())

foursquare_restaurants.to_csv('../data/foursquare_restaurants.csv', index=False)








import os
import requests
import pandas as pd

# NOTE ONLY DID 5 CALLS DUE TO YELP'S DAILY CALL LIMIT

# Load bike stations data
bike_stations = pd.read_csv('../data/bike_stations_madrid.csv')

# Yelp API URL and headers
url = "https://api.yelp.com/v3/businesses/search"
headers = {
    'Accept': 'application/json',
    'Authorization': f"Bearer {os.getenv('YELP_KEY')}"  # Use your Yelp API key from the environment variable
}

# Function to request Yelp places for a given bike station
def fetch_pois_yelp(item, index):
    params = {
        'latitude': item['latitude'],  # Latitude from the row
        'longitude': item['longitude'],  # Longitude from the row
        'radius': 1000, 
        'categories': 'restaurants'  # Only restaurants
    }
    
    # Print the status for each row before making the request
    print(f"Processing row {index + 1}/{5}: Station {item['name']} at ({item['latitude']}, {item['longitude']})")
    
    # Make the API request
    response = requests.get(url, headers=headers, params=params)
    
    if response.status_code == 200:
        results = response.json().get('businesses', [])
        return pd.Series([item['name'], results])
    else:
        return pd.Series([item['name'], f"Error: {response.status_code}"])

# Limit the number of bike stations to 5
bike_stations_subset = bike_stations.head(5)  # Get the first 5 stations

# Apply the function to the first 5 bike stations, passing the index
yelp_places = bike_stations_subset.apply(lambda row: fetch_pois_yelp(row, row.name), axis=1, result_type="expand")

# Rename columns for clarity
yelp_places.columns = ['Station Name', 'Yelp Results']

# Display the DataFrame (optional)
print(yelp_places.head())






print(yelp_places.columns)



# Check the columns of foursquare_places to make sure 'Yelp Results' exists

# Initialize a list to store all restaurant details in one go
restaurant_details = []

# Function to extract details from Yelp results
def extract_details_yelp(row):
    # Check if 'Yelp Results' is a list and not a string
    if isinstance(row.get('Yelp Results'), list):  # Use .get() to avoid KeyError if the column is missing
        # Iterate over the restaurants in the Yelp results
        for restaurant in row['Yelp Results']:
            restaurant_info = {
                'station_name': row['Station Name'],
                'restaurant_name': restaurant.get('name', 'No name'),
                'distance': restaurant.get('distance', 'No distance'),
                'address': ', '.join(restaurant.get('location', {}).get('address', ['No address'])),
                'categories': ', '.join([category.get('title', 'No category') for category in restaurant.get('categories', [])]),
                'rating': restaurant.get('rating', 'No rating'),
                'review_count': restaurant.get('review_count', 'No reviews'),
                'phone': restaurant.get('phone', 'No phone')            }
            restaurant_details.append(restaurant_info)
    else:
        # If 'Yelp Results' is not a list, print the row to debug
        print(f"Skipping row {row['Station Name']} due to invalid data: {row['Yelp Results']}")

# Extract details for all rows in one go
yelp_places.apply(extract_details_yelp, axis=1)

# Convert the list of restaurant details into a DataFrame
yelp_restaurants = pd.DataFrame(restaurant_details)

# Display the resulting DataFrame
print(yelp_restaurants.head())






yelp_restaurants = pd.DataFrame(yelp_restaurants)

yelp_restaurants.head()

yelp_restaurants.to_csv('../data/yelp_restaurants.csv', index=False)














# Convert the 'rating' column to numeric (ignoring errors for non-numeric entries)
yelp_restaurants['rating'] = pd.to_numeric(yelp_restaurants['rating'], errors='coerce')

# Sort the restaurants by rating in descending order and select top 10
top_10_restaurants = yelp_restaurants.sort_values(by='rating', ascending=False).head(10)

# Add a 'Rank' column with numbers from 1 to 10
top_10_restaurants['Rank'] = range(1, 11)

# Reorganize the columns to have 'Rank' first, then 'station_name', 'restaurant_name', and 'rating'
top_10_restaurants = top_10_restaurants[['Rank', 'station_name', 'restaurant_name', 'rating']]

# Display the top 10 restaurants with rank
print(top_10_restaurants)

