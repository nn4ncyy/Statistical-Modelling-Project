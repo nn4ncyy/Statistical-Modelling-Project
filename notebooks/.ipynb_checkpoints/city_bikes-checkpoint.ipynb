{
 "cells": [
  {
   "cell_type": "markdown",
   "metadata": {},
   "source": [
    "# CityBikes"
   ]
  },
  {
   "cell_type": "markdown",
   "metadata": {},
   "source": [
    "Send a request to CityBikes for the city of your choice. "
   ]
  },
  {
   "cell_type": "code",
   "execution_count": 2,
   "metadata": {},
   "outputs": [
    {
     "name": "stdout",
     "output_type": "stream",
     "text": [
      "Success!\n"
     ]
    }
   ],
   "source": [
    "import requests\n",
    "\n",
    "#location is \"Madrid\" (id = bicimad)\n",
    "url = \"http://api.citybik.es/v2/networks/bicimad\"\n",
    "\n",
    "response = requests.get(url)\n",
    "\n",
    "if response.status_code == 200:\n",
    "    print(\"Success!\")\n",
    "\n",
    "elif response.status_code == 404:\n",
    "    print(\"Not Found\")"
   ]
  },
  {
   "cell_type": "markdown",
   "metadata": {},
   "source": [
    "Parse through the response to get the details you want for the bike stations in that city (latitude, longitude, number of bikes). "
   ]
  },
  {
   "cell_type": "code",
   "execution_count": 23,
   "metadata": {},
   "outputs": [
    {
     "name": "stdout",
     "output_type": "stream",
     "text": [
      "                                 id                                       name\n",
      "0  01f5011f76069b1e81a11d4d51dd9d1d                       377 - Metro Abrantes\n",
      "1  025b1722c61309b46f4f3833c05d96a2                         507 - Seis - Sexta\n",
      "2  0293685e90e89cbd15dfb4ae7db3551e  192 - Avda. de los Toreros - Fco. Silvela\n",
      "3  02c587332ef68d67fa22a21b242fd857                  333 - Illescas - Camarena\n",
      "4  03616e7fc57d3e370fb9126349925d27                     3 - Plaza Conde Suchil\n"
     ]
    }
   ],
   "source": [
    "# Step 2: Parse the JSON response\n",
    "response_data = response.json()\n",
    "\n",
    "# Step 3: Extract the bike station data\n",
    "subset_response_data = response_data['network']['stations']\n",
    "\n",
    "# Step 4: Normalize the data into a DataFrame\n",
    "bike_stations = pd.json_normalize(subset_response_data)\n",
    "\n",
    "# Step 5: Select only the desired columns\n",
    "columns_to_keep = ['id', 'name', 'latitude', 'longitude', 'free_bikes', 'empty_slots']\n",
    "bike_stations = bike_stations[columns_to_keep]\n",
    "\n",
    "# Step 6: Display the resulting DataFrame\n",
    "print(bike_stations.head())\n",
    "\n",
    "# # Optional: Save the DataFrame to a CSV file\n",
    "# bike_stations.to_csv(\"madrid_bike_stations.csv\", index=False)\n",
    "# print(\"Data saved to 'madrid_bike_stations.csv'.\")\n"
   ]
  },
  {
   "cell_type": "markdown",
   "metadata": {},
   "source": [
    "Put your parsed results into a DataFrame."
   ]
  },
  {
   "cell_type": "code",
   "execution_count": 12,
   "metadata": {},
   "outputs": [
    {
     "name": "stdout",
     "output_type": "stream",
     "text": [
      "      latitude  longitude  number_of_bikes  \\\n",
      "0    40.380918  -3.727836                8   \n",
      "1    40.448450  -3.596503               19   \n",
      "2    40.431826  -3.671468               10   \n",
      "3    40.392175  -3.756232                9   \n",
      "4    40.430322  -3.707254               12   \n",
      "..         ...        ...              ...   \n",
      "605  40.427736  -3.683257                3   \n",
      "606  40.420590  -3.702390                2   \n",
      "607  40.386022  -3.671961                9   \n",
      "608  40.403472  -3.601922                7   \n",
      "609  40.457729  -3.713461               17   \n",
      "\n",
      "                                            name  \n",
      "0                           377 - Metro Abrantes  \n",
      "1                             507 - Seis - Sexta  \n",
      "2      192 - Avda. de los Toreros - Fco. Silvela  \n",
      "3                      333 - Illescas - Camarena  \n",
      "4                         3 - Plaza Conde Suchil  \n",
      "..                                           ...  \n",
      "605                       87 - Ayala - Velázquez  \n",
      "606                   211 - Desengaño - Valverde  \n",
      "607           622 - Calle Sierra de Albarracin 2  \n",
      "608      468 - Caños de San Pedro - San Cipriano  \n",
      "609  308 - María Auxiliadora - Francos Rodríguez  \n",
      "\n",
      "[610 rows x 4 columns]\n"
     ]
    }
   ],
   "source": [
    "import pandas as pd\n",
    "\n",
    "df = pd.DataFrame(station_details)\n",
    "\n",
    "print(df)"
   ]
  },
  {
   "cell_type": "code",
   "execution_count": 14,
   "metadata": {},
   "outputs": [
    {
     "name": "stdout",
     "output_type": "stream",
     "text": [
      "{'latitude': 40.4168, 'longitude': -3.7038, 'city': 'Madrid', 'country': 'ES'}\n"
     ]
    }
   ],
   "source": [
    "print(data['network']['location'])  # Should print a dictionary with details about Madrid\n"
   ]
  },
  {
   "cell_type": "code",
   "execution_count": null,
   "metadata": {},
   "outputs": [],
   "source": []
  }
 ],
 "metadata": {
  "kernelspec": {
   "display_name": "Python 3 (ipykernel)",
   "language": "python",
   "name": "python3"
  },
  "language_info": {
   "codemirror_mode": {
    "name": "ipython",
    "version": 3
   },
   "file_extension": ".py",
   "mimetype": "text/x-python",
   "name": "python",
   "nbconvert_exporter": "python",
   "pygments_lexer": "ipython3",
   "version": "3.12.7"
  }
 },
 "nbformat": 4,
 "nbformat_minor": 4
}
