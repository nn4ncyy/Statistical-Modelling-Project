{
 "cells": [
  {
   "cell_type": "code",
   "execution_count": 1,
   "metadata": {},
   "outputs": [],
   "source": [
    "# imports\n",
    "import requests\n",
    "import pandas as pd\n",
    "import os"
   ]
  },
  {
   "cell_type": "markdown",
   "metadata": {},
   "source": [
    "# Foursquare"
   ]
  },
  {
   "cell_type": "markdown",
   "metadata": {},
   "source": [
    "Send a request to Foursquare with a small radius (1000m) for all the bike stations in your city of choice. "
   ]
  },
  {
   "cell_type": "code",
   "execution_count": 2,
   "metadata": {},
   "outputs": [],
   "source": [
    "api_key  = os.getenv('FOURSQUARE_KEY')\n",
    "\n",
    "# Function to make an http request to foursqure for each bike station\n",
    "import os\n",
    "import requests\n",
    "\n",
    "def fetch_pois_for_madrid(api_key, latitude, longitude, radius):\n",
    "    # Foursquare API URL\n",
    "    url = f\"https://api.foursquare.com/v3/places/search?ll={latitude},{longitude}&radius={radius}\"\n",
    "    \n",
    "    # Headers with API key\n",
    "    headers = {\n",
    "        \"Authorization\": api_key,\n",
    "        \"Accept\": \"application/json\"\n",
    "    }\n",
    "    \n",
    "    # Send request to Foursquare\n",
    "    response = requests.get(url, headers=headers)\n",
    "    \n",
    "    if response.status_code == 200:\n",
    "        results = response.json().get('results', [])\n",
    "        print(f\"Location ({latitude}, {longitude}) - Found {len(results)} POIs:\")\n",
    "        for place in results:\n",
    "            name = place.get('name', 'No name')\n",
    "            address = place.get('location', {}).get('formatted_address', 'No address')\n",
    "            print(f\"  - {name}, Address: {address}\")\n",
    "    else:\n",
    "        print(f\"Failed to fetch POIs for location ({latitude}, {longitude}). Error: {response.status_code}\")\n"
   ]
  },
  {
   "cell_type": "code",
   "execution_count": 4,
   "metadata": {},
   "outputs": [
    {
     "name": "stdout",
     "output_type": "stream",
     "text": [
      "Location (40.45772941, -3.7134614699999995) - Found 10 POIs:\n",
      "  - Madrid Delicia, Address: Francos Rodríguez, 69, 28039 Madrid Comunidad de Madrid\n",
      "  - Grupo Mam, Address: Avenida Doctor Federico Rubio y Gali, 77, 28040 Madrid Comunidad de Madrid\n",
      "  - Comisaria General de Seguridad Ciudadana, Address: Calle de Francos Rodríguez, 110, 28039 Madrid Comunidad de Madrid\n",
      "  - Clínica Veterinaria Mundo Animal, Address: Avenida del Doctor Federico Rubio y Galí, 108, 28040 Madrid Comunidad de Madrid\n",
      "  - Clinica Dental Garmar, Address: Avenida Dr. Federico Rubio y Gali, 108, 28040 Madrid Comunidad de Madrid\n",
      "  - Piscina Francos Rodríguez, Address: Avenida de Pablo Iglesias, 84, 28039 Madrid Comunidad de Madrid\n",
      "  - La Muralla de Ávila, Address: Calle de Francos Rodríguez, 62, 28039 Madrid Madrid\n",
      "  - Fábrica de Horchata, Address: Pedro Tezano, 11 (near Calle de Villaamil, 44), 28039 Madrid Comunidad de Madrid\n",
      "  - Ondiñas do Mendo, Address: Calle Villaamil, 4, 28039 Madrid Comunidad de Madrid\n",
      "  - As de Bastos Madrid, Address: Calle de Castilla, 62, 28039 Madrid Comunidad de Madrid\n"
     ]
    }
   ],
   "source": [
    "#testing above function\n",
    "fetch_pois_for_madrid(api_key, 40.45772941, -3.7134614699999995, 1000)"
   ]
  },
  {
   "cell_type": "markdown",
   "metadata": {},
   "source": [
    "Parse through the response to get the POI (such as restaurants, bars, etc) details you want (ratings, name, location, etc)"
   ]
  },
  {
   "cell_type": "code",
   "execution_count": 5,
   "metadata": {},
   "outputs": [],
   "source": [
    "def fetch_poi_details(api_key, latitude, longitude, radius=1000):\n",
    "    # Foursquare API endpoint\n",
    "    url = f\"https://api.foursquare.com/v3/places/search?ll={latitude},{longitude}&radius={radius}&categories=13065,13003\"  # Categories: restaurants and bars\n",
    "\n",
    "    # Headers for authentication\n",
    "    headers = {\n",
    "        \"Authorization\": api_key,\n",
    "        \"Accept\": \"application/json\"\n",
    "    }\n",
    "    \n",
    "    # Send request\n",
    "    response = requests.get(url, headers=headers)\n",
    "    \n",
    "    if response.status_code == 200:\n",
    "        # Parse response\n",
    "        poi_data = response.json().get('results', [])\n",
    "        \n",
    "        # Extract relevant details\n",
    "        parsed_pois = []\n",
    "        for poi in poi_data:\n",
    "            name = poi.get('name', 'No name available')\n",
    "            location = poi.get('location', {})\n",
    "            address = location.get('formatted_address', 'No address available')\n",
    "            category = poi.get('categories', [{'name': 'Unknown category'}])[0].get('name', 'Unknown category')\n",
    "            \n",
    "            # Add POI details to the list\n",
    "            parsed_pois.append({\n",
    "                'name': name,\n",
    "                'address': address,\n",
    "                'category': category\n",
    "            })\n",
    "        \n",
    "        return parsed_pois\n",
    "    else:\n",
    "        print(f\"Error: Failed to fetch POIs (Status code: {response.status_code})\")\n",
    "        return []\n"
   ]
  },
  {
   "cell_type": "code",
   "execution_count": 14,
   "metadata": {},
   "outputs": [
    {
     "data": {
      "text/plain": [
       "[{'name': 'Ondiñas do Mendo',\n",
       "  'address': 'Calle Villaamil, 4, 28039 Madrid Comunidad de Madrid',\n",
       "  'category': 'Tapas Restaurant'},\n",
       " {'name': 'La Muralla de Ávila',\n",
       "  'address': 'Calle de Francos Rodríguez, 62, 28039 Madrid Madrid',\n",
       "  'category': 'Bar'},\n",
       " {'name': 'Fábrica de Horchata',\n",
       "  'address': 'Pedro Tezano, 11 (near Calle de Villaamil, 44), 28039 Madrid Comunidad de Madrid',\n",
       "  'category': 'Ice Cream Parlor'},\n",
       " {'name': 'Casa Adriano',\n",
       "  'address': 'Pamplona, 19 (C. Otamendi), 28039 Madrid Comunidad de Madrid',\n",
       "  'category': 'Seafood Restaurant'},\n",
       " {'name': 'The Beer Temple',\n",
       "  'address': 'C. Almansa, 3 (C. de los Vascos), Madrid Comunidad de Madrid',\n",
       "  'category': 'Pub'},\n",
       " {'name': 'Los Aros',\n",
       "  'address': 'Calle Berruguete, 3, 28039 Madrid Comunidad de Madrid',\n",
       "  'category': 'Spanish Restaurant'},\n",
       " {'name': 'La Unión',\n",
       "  'address': 'Calle Villaamil, 7, 28039 Madrid Comunidad de Madrid',\n",
       "  'category': 'Bar'},\n",
       " {'name': 'Gaztemanu',\n",
       "  'address': 'Jerónima Llorente, 66, 28039 Madrid Comunidad de Madrid',\n",
       "  'category': 'Spanish Restaurant'},\n",
       " {'name': 'Hakuna Matata Veggie',\n",
       "  'address': 'Calle de Alejandro Rodríguez, 6, 28039 Madrid Comunidad de Madrid',\n",
       "  'category': 'Pizzeria'},\n",
       " {'name': 'Luas Irish Tavern',\n",
       "  'address': 'Calle Villamil, 6, Madrid Comunidad de Madrid',\n",
       "  'category': 'Pub'}]"
      ]
     },
     "execution_count": 14,
     "metadata": {},
     "output_type": "execute_result"
    }
   ],
   "source": [
    "#testing above function\n",
    "\n",
    "fetch_poi_details(FOURSQUARE_KEY, 40.45772941, -3.7134614699999995, 1000)"
   ]
  },
  {
   "cell_type": "markdown",
   "metadata": {},
   "source": [
    "Put your parsed results into a DataFrame"
   ]
  },
  {
   "cell_type": "code",
   "execution_count": 6,
   "metadata": {},
   "outputs": [],
   "source": [
    "def pois_to_dataframe(pois):\n",
    "    \"\"\"Convert a list of POIs into a Pandas DataFrame.\"\"\"\n",
    "    return pd.DataFrame(pois)\n",
    "    "
   ]
  },
  {
   "cell_type": "code",
   "execution_count": 8,
   "metadata": {},
   "outputs": [
    {
     "name": "stdout",
     "output_type": "stream",
     "text": [
      "                   name                                            address  \\\n",
      "0      Ondiñas do Mendo  Calle Villaamil, 4, 28039 Madrid Comunidad de ...   \n",
      "1   La Muralla de Ávila  Calle de Francos Rodríguez, 62, 28039 Madrid M...   \n",
      "2   Fábrica de Horchata  Pedro Tezano, 11 (near Calle de Villaamil, 44)...   \n",
      "3          Casa Adriano  Pamplona, 19 (C. Otamendi), 28039 Madrid Comun...   \n",
      "4       The Beer Temple  C. Almansa, 3 (C. de los Vascos), Madrid Comun...   \n",
      "5              Los Aros  Calle Berruguete, 3, 28039 Madrid Comunidad de...   \n",
      "6              La Unión  Calle Villaamil, 7, 28039 Madrid Comunidad de ...   \n",
      "7             Gaztemanu  Jerónima Llorente, 66, 28039 Madrid Comunidad ...   \n",
      "8  Hakuna Matata Veggie  Calle de Alejandro Rodríguez, 6, 28039 Madrid ...   \n",
      "9     Luas Irish Tavern      Calle Villamil, 6, Madrid Comunidad de Madrid   \n",
      "\n",
      "             category  \n",
      "0    Tapas Restaurant  \n",
      "1                 Bar  \n",
      "2    Ice Cream Parlor  \n",
      "3  Seafood Restaurant  \n",
      "4                 Pub  \n",
      "5  Spanish Restaurant  \n",
      "6                 Bar  \n",
      "7  Spanish Restaurant  \n",
      "8            Pizzeria  \n",
      "9                 Pub  \n"
     ]
    }
   ],
   "source": [
    "#testing above function\n",
    "pois = fetch_poi_details(api_key, 40.45772941, -3.7134614699999995)\n",
    "\n",
    "if pois:\n",
    "        poi_df = pois_to_dataframe(pois)\n",
    "        print(poi_df)\n",
    "else:\n",
    "        print(\"No POIs found.\")"
   ]
  },
  {
   "cell_type": "markdown",
   "metadata": {},
   "source": [
    "# Yelp"
   ]
  },
  {
   "cell_type": "markdown",
   "metadata": {},
   "source": [
    "Send a request to Yelp with a small radius (1000m) for all the bike stations in your city of choice. "
   ]
  },
  {
   "cell_type": "code",
   "execution_count": 17,
   "metadata": {},
   "outputs": [],
   "source": [
    "import os\n",
    "import requests\n",
    "\n",
    "def fetch_initial_madrid_yelp(api_key, latitude, longitude, radius):\n",
    "    # Yelp API URL to search for restaurants\n",
    "    url = f\"https://api.yelp.com/v3/businesses/search?latitude={latitude}&longitude={longitude}&radius={radius}&categories=restaurants\"\n",
    "    \n",
    "    # Headers with API key\n",
    "    headers = {\n",
    "        \"Authorization\": f\"Bearer {api_key}\",\n",
    "        \"Accept\": \"application/json\"\n",
    "    }\n",
    "    \n",
    "    # Send request to Yelp\n",
    "    response = requests.get(url, headers=headers)\n",
    "    \n",
    "    if response.status_code == 200:\n",
    "        results = response.json().get('businesses', [])\n",
    "        print(f\"Location ({latitude}, {longitude}) - Found {len(results)} Restaurants:\")\n",
    "        for place in results:\n",
    "            name = place.get('name', 'No name')\n",
    "            print(f\"  - {name}\")\n",
    "    else:\n",
    "        print(f\"Failed to fetch restaurants for location ({latitude}, {longitude}). Error: {response.status_code}\")\n"
   ]
  },
  {
   "cell_type": "code",
   "execution_count": 18,
   "metadata": {},
   "outputs": [
    {
     "name": "stdout",
     "output_type": "stream",
     "text": [
      "Location (40.4168, -3.7038) - Found 20 Restaurants:\n",
      "  - Rosi La Loca\n",
      "  - InClan Brutal\n",
      "  - Chocolatería San Ginés\n",
      "  - Taberna del Chato\n",
      "  - La Casa del Abuelo\n",
      "  - Los Galayos\n",
      "  - Casa Toni\n",
      "  - Juana la Loca\n",
      "  - Metro Bistro\n",
      "  - Botín\n",
      "  - Cardamomo Tablao Flamenco\n",
      "  - El Mesón del Champiñón\n",
      "  - Mu El Placer de la Carne\n",
      "  - Bacoa\n",
      "  - Sichuan\n",
      "  - Baton Rouge\n",
      "  - Grazie Mille\n",
      "  - Parrilla El Gaucho\n",
      "  - Museo del Jamón\n",
      "  - Celso y Manolo\n"
     ]
    }
   ],
   "source": [
    "#testing above code\n",
    "fetch_initial_madrid_yelp(YELP_KEY, 40.4168, -3.7038, 1000)"
   ]
  },
  {
   "cell_type": "markdown",
   "metadata": {},
   "source": [
    "Parse through the response to get the POI (such as restaurants, bars, etc) details you want (ratings, name, location, etc)"
   ]
  },
  {
   "cell_type": "code",
   "execution_count": 21,
   "metadata": {},
   "outputs": [],
   "source": [
    "import os\n",
    "import requests\n",
    "\n",
    "YELP_KEY = os.getenv('YELP_KEY')\n",
    "\n",
    "def fetch_pois_details_yelp(api_key, latitude, longitude, radius):\n",
    "    # Yelp API URL\n",
    "    url = f\"https://api.yelp.com/v3/businesses/search?latitude={latitude}&longitude={longitude}&radius={radius}&categories=restaurants,bars\"\n",
    "    \n",
    "    # Headers with API key\n",
    "    headers = {\n",
    "        \"Authorization\": f\"Bearer {api_key}\",\n",
    "        \"Accept\": \"application/json\"\n",
    "    }\n",
    "    \n",
    "    # Send request to Yelp\n",
    "    response = requests.get(url, headers=headers)\n",
    "    \n",
    "    if response.status_code == 200:\n",
    "        results = response.json().get('businesses', [])\n",
    "        print(f\"Location ({latitude}, {longitude}) - Found {len(results)} POIs:\")\n",
    "        for place in results:\n",
    "            name = place.get('name', 'No name')\n",
    "            address = \"\".join(place.get('location', {}).get('address1', 'No address'))\n",
    "            rating = place.get('rating', 'No rating')\n",
    "            categories = \", \".join([category['title'] for category in place.get('categories', [])])\n",
    "            print(f\"  - Name: {name}, Address: {address}, Rating: {rating}, Categories: {categories}\")\n",
    "    else:\n",
    "        print(f\"Failed to fetch POIs for location ({latitude}, {longitude}). Error: {response.status_code}\")\n"
   ]
  },
  {
   "cell_type": "code",
   "execution_count": 22,
   "metadata": {},
   "outputs": [
    {
     "name": "stdout",
     "output_type": "stream",
     "text": [
      "Location (40.4168, -3.7038) - Found 20 POIs:\n",
      "  - Name: Rosi La Loca, Address: Calle de Cádiz, 4, Rating: 4.4, Categories: Tapas Bars, Spanish\n",
      "  - Name: InClan Brutal, Address: Calle Álvarez Gato, 4, Rating: 4.5, Categories: Tapas Bars, Mediterranean\n",
      "  - Name: Chocolatería San Ginés, Address: Pasadizo de San Ginés, 5, Rating: 4.2, Categories: Chocolatiers & Shops, Churros, Breakfast & Brunch\n",
      "  - Name: Taberna del Chato, Address: Calle Andrés Mellado 88, Rating: 4.2, Categories: Tapas/Small Plates, Tabernas\n",
      "  - Name: La Casa del Abuelo, Address: Calle de la Victoria, 12, Rating: 4.1, Categories: Spanish, Tapas/Small Plates, Seafood\n",
      "  - Name: Los Galayos, Address: Calle de Botoneras, 5, Rating: 4.1, Categories: Spanish, Tapas Bars, Steakhouses\n",
      "  - Name: Casa Toni, Address: Calle de la Cruz, 14, Rating: 4.5, Categories: Tapas/Small Plates, Spanish\n",
      "  - Name: Juana la Loca, Address: Plaza de Puerta de Moros, 4, Rating: 4.6, Categories: Tapas/Small Plates, Spanish\n",
      "  - Name: Metro Bistro, Address: Calle Imperial, 3, Rating: 4.6, Categories: Mediterranean, Spanish, Signature Cuisine\n",
      "  - Name: Botín, Address: Calle de Cuchilleros, 17, Rating: 4.0, Categories: Spanish, Steakhouses\n",
      "  - Name: Cardamomo Tablao Flamenco, Address: Calle de Echegaray, 15, Rating: 4.4, Categories: Spanish, Tablao Flamenco\n",
      "  - Name: El Mesón del Champiñón, Address: Calle Cava de San Miguel, 17, Rating: 4.5, Categories: Spanish, Tapas Bars\n",
      "  - Name: Mu El Placer de la Carne, Address: Calle Chinchilla, 3, Rating: 4.7, Categories: Argentine\n",
      "  - Name: Bacoa, Address: Carrera de San Jeronimo, 3, Rating: 4.3, Categories: Burgers\n",
      "  - Name: Sichuan, Address: Calle Caballero de Gracia, 8, Rating: 4.5, Categories: Chinese\n",
      "  - Name: Baton Rouge, Address: Calle de la Victoria, 8, Rating: 4.9, Categories: Cocktail Bars, Gastropubs\n",
      "  - Name: Grazie Mille, Address: Calle Mayor, 31, Rating: 4.2, Categories: Italian, Pizza\n",
      "  - Name: Parrilla El Gaucho, Address: Calle de Tetuán, 34, Rating: 4.7, Categories: Argentine\n",
      "  - Name: Museo del Jamón, Address: Calle Mayor, 7, Rating: 3.9, Categories: Meat Shops, Tapas/Small Plates, Sandwiches\n",
      "  - Name: Celso y Manolo, Address: Calle de la Libertad, 1, Rating: 4.4, Categories: Tapas Bars, Spanish\n"
     ]
    }
   ],
   "source": [
    "#testing above code\n",
    "fetch_pois_details_yelp(YELP_KEY, 40.4168, -3.7038, 1000)"
   ]
  },
  {
   "cell_type": "markdown",
   "metadata": {},
   "source": [
    "Put your parsed results into a DataFrame"
   ]
  },
  {
   "cell_type": "code",
   "execution_count": 23,
   "metadata": {},
   "outputs": [],
   "source": [
    "def pois_to_dataframe(pois):\n",
    "    \"\"\"Convert a list of POIs into a Pandas DataFrame.\"\"\"\n",
    "    return pd.DataFrame(pois)\n",
    "    "
   ]
  },
  {
   "cell_type": "code",
   "execution_count": 25,
   "metadata": {},
   "outputs": [
    {
     "name": "stdout",
     "output_type": "stream",
     "text": [
      "Location (40.45772941, -3.7134614699999995) - Found 20 POIs:\n",
      "  - Name: Goiko Grill, Address: Avenida del General Perón, 16, Rating: 4.4, Categories: Burgers\n",
      "  - Name: Piccola Napoli, Address: Calle Palencia, 29, Rating: 4.5, Categories: Pizza, Italian\n",
      "  - Name: Madrid Delicia, Address: Calle de Francos Rodriguez, 69, Rating: 4.8, Categories: Bakeries, Coffee & Tea, Breakfast & Brunch\n",
      "  - Name: Clos, Address: Calle de Raimundo Fernández Villaverde, 28, Rating: 4.9, Categories: Modern European, Spanish\n",
      "  - Name: Tony Roma's, Address: Numancia 2, Rating: 4.0, Categories: Seafood, Steakhouses\n",
      "  - Name: Asador Donostiarra, Address: Calle de la Infanta Mercedes, 79, Rating: 4.1, Categories: Steakhouses, Basque, Spanish\n",
      "  - Name: Shangai Mama, Address: Calle de la Infanta Mercedes, 62, Rating: 4.7, Categories: Chinese\n",
      "  - Name: Naomi, Address: Calle de Ávila, 14, Rating: 4.6, Categories: Japanese\n",
      "  - Name: Rebel Café, Address: Calle de Ponzano, 90, Rating: 4.7, Categories: Desserts, Coffee & Tea, Breakfast & Brunch\n",
      "  - Name: Kabuki, Address: Avenida del Presidente Carmona, 2, Rating: 4.3, Categories: Japanese\n",
      "  - Name: Taxi a Manhattan, Address: Calle de la Basílica, 17, Rating: 3.4, Categories: Mediterranean, American\n",
      "  - Name: Furusato, Address: Calle de la Reina Mercedes, 22, Rating: 4.1, Categories: Chinese\n",
      "  - Name: La Antequerana, Address: Calle de Sor Ángela de la Cruz, 30, Rating: 4.2, Categories: Spanish, Tapas Bars, Andalusian\n",
      "  - Name: O'Pazo, Address: Calle Reina Mercedes, 20, Rating: 4.0, Categories: Spanish, Seafood, Galician\n",
      "  - Name: Matcha, Address: Calle de la Infanta Mercedes, 62, Rating: 4.5, Categories: Asian Fusion, Sushi Bars\n",
      "  - Name: Ondiñas do Mendo, Address: Calle de Villaamil, 4, Rating: 4.2, Categories: Spanish, Tapas/Small Plates\n",
      "  - Name: La Dehesa I, Address: Avenida Pablo Iglesias, 94, Rating: 3.0, Categories: Spanish\n",
      "  - Name: La Mina, Address: Calle de Francos Rodríguez, 94, Rating: 3.7, Categories: Tapas Bars\n",
      "  - Name: Audrey, Address: Calle Francos Rodriguez, 88, Rating: 4.0, Categories: Cafeteria, Bakeries, Breakfast & Brunch\n",
      "  - Name: Combarro, Address: Calle de la Reina Mercedes, 12, Rating: 4.4, Categories: Spanish, Seafood, Galician\n",
      "No POIs found.\n"
     ]
    }
   ],
   "source": [
    "pois = fetch_pois_details_yelp(YELP_KEY, 40.45772941, -3.7134614699999995, 1000)\n",
    "if pois:\n",
    "        poi_df = pois_to_dataframe(pois)\n",
    "        print(poi_df)\n",
    "else:\n",
    "        print(\"No POIs found.\")"
   ]
  },
  {
   "cell_type": "markdown",
   "metadata": {},
   "source": [
    "# Comparing Results"
   ]
  },
  {
   "cell_type": "markdown",
   "metadata": {},
   "source": [
    "Which API provided you with more complete data? Provide an explanation. "
   ]
  },
  {
   "cell_type": "markdown",
   "metadata": {},
   "source": [
    "The Yelp API provided us with more complete data. This is because they had a more robust API, they were able to suggest us more restaurants. Beyond that, the Yelp API also provided us with rating for the restaurant, which Foursquare did not. The Yelp API gives us more details from just one single call using the latitude and longitude, therefore giving us more complete data."
   ]
  },
  {
   "cell_type": "markdown",
   "metadata": {},
   "source": [
    "Get the top 10 restaurants according to their rating"
   ]
  },
  {
   "cell_type": "code",
   "execution_count": 26,
   "metadata": {},
   "outputs": [],
   "source": [
    "def fetch_top_restaurants_for_madrid_yelp(api_key, latitude, longitude, radius):\n",
    "    # Yelp API URL to search for restaurants\n",
    "    url = f\"https://api.yelp.com/v3/businesses/search?latitude={latitude}&longitude={longitude}&radius={radius}&categories=restaurants\"\n",
    "    \n",
    "    # Headers with API key\n",
    "    headers = {\n",
    "        \"Authorization\": f\"Bearer {api_key}\",\n",
    "        \"Accept\": \"application/json\"\n",
    "    }\n",
    "    \n",
    "    # Send request to Yelp\n",
    "    response = requests.get(url, headers=headers)\n",
    "    \n",
    "    if response.status_code == 200:\n",
    "        results = response.json().get('businesses', [])\n",
    "        \n",
    "        # Sort the results by rating in descending order\n",
    "        sorted_results = sorted(results, key=lambda x: x.get('rating', 0), reverse=True)\n",
    "        \n",
    "        # Limit to top 10 restaurants\n",
    "        top_10_restaurants = sorted_results[:10]\n",
    "        \n",
    "        print(f\"Location ({latitude}, {longitude}) - Top 10 Restaurants by Rating:\")\n",
    "        \n",
    "        # Enumerate starting from 1 to number the results\n",
    "        for index, place in enumerate(top_10_restaurants, start=1):\n",
    "            name = place.get('name', 'No name')\n",
    "            rating = place.get('rating', 'No rating')\n",
    "            print(f\"{index}. {name}, Rating: {rating}\")\n",
    "    else:\n",
    "        print(f\"Failed to fetch restaurants for location ({latitude}, {longitude}). Error: {response.status_code}\")"
   ]
  },
  {
   "cell_type": "code",
   "execution_count": 28,
   "metadata": {},
   "outputs": [
    {
     "name": "stdout",
     "output_type": "stream",
     "text": [
      "Location (40.4168, -3.7038) - Top 10 Restaurants by Rating:\n",
      "1. Baton Rouge, Rating: 4.9\n",
      "2. Mu El Placer de la Carne, Rating: 4.7\n",
      "3. Parrilla El Gaucho, Rating: 4.7\n",
      "4. Juana la Loca, Rating: 4.6\n",
      "5. Metro Bistro, Rating: 4.6\n",
      "6. InClan Brutal, Rating: 4.5\n",
      "7. Casa Toni, Rating: 4.5\n",
      "8. El Mesón del Champiñón, Rating: 4.5\n",
      "9. Sichuan, Rating: 4.5\n",
      "10. Rosi La Loca, Rating: 4.4\n"
     ]
    }
   ],
   "source": [
    "YELP_KEY = os.getenv('YELP_KEY')\n",
    "\n",
    "if not YELP_KEY:\n",
    "    raise ValueError(\"YELP_KEY not found. Please set it as an environment variable.\")\n",
    "    \n",
    "    # Example latitude and longitude (Madrid city center)\n",
    "latitude = 40.4168\n",
    "longitude = -3.7038\n",
    "radius = 1000  # Radius in meters\n",
    "    \n",
    "    # Fetch and print the top 10 restaurants by rating for the specified location\n",
    "fetch_top_restaurants_for_madrid_yelp(YELP_KEY, latitude, longitude, radius)"
   ]
  }
 ],
 "metadata": {
  "kernelspec": {
   "display_name": "Python 3 (ipykernel)",
   "language": "python",
   "name": "python3"
  },
  "language_info": {
   "codemirror_mode": {
    "name": "ipython",
    "version": 3
   },
   "file_extension": ".py",
   "mimetype": "text/x-python",
   "name": "python",
   "nbconvert_exporter": "python",
   "pygments_lexer": "ipython3",
   "version": "3.12.7"
  }
 },
 "nbformat": 4,
 "nbformat_minor": 4
}
