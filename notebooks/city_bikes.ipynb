{
 "cells": [
  {
   "cell_type": "markdown",
   "metadata": {},
   "source": [
    "# CityBikes"
   ]
  },
  {
   "cell_type": "markdown",
   "metadata": {},
   "source": [
    "Send a request to CityBikes for the city of your choice. "
   ]
  },
  {
   "cell_type": "code",
   "execution_count": 1,
   "metadata": {},
   "outputs": [
    {
     "name": "stdout",
     "output_type": "stream",
     "text": [
      "Success!\n"
     ]
    }
   ],
   "source": [
    "import requests\n",
    "\n",
    "#location is \"Madrid\" (id = bicimad)\n",
    "url = \"http://api.citybik.es/v2/networks/bicimad\"\n",
    "\n",
    "response = requests.get(url)\n",
    "\n",
    "if response.status_code == 200:\n",
    "    print(\"Success!\")\n",
    "\n",
    "elif response.status_code == 404:\n",
    "    print(\"Not Found\")"
   ]
  },
  {
   "cell_type": "markdown",
   "metadata": {},
   "source": [
    "Parse through the response to get the details you want for the bike stations in that city (latitude, longitude, number of bikes). "
   ]
  },
  {
   "cell_type": "code",
   "execution_count": 2,
   "metadata": {},
   "outputs": [
    {
     "name": "stdout",
     "output_type": "stream",
     "text": [
      "                                 id  \\\n",
      "0  01f5011f76069b1e81a11d4d51dd9d1d   \n",
      "1  025b1722c61309b46f4f3833c05d96a2   \n",
      "2  0293685e90e89cbd15dfb4ae7db3551e   \n",
      "3  02c587332ef68d67fa22a21b242fd857   \n",
      "4  03616e7fc57d3e370fb9126349925d27   \n",
      "\n",
      "                                        name   latitude  longitude  \\\n",
      "0                       377 - Metro Abrantes  40.380918  -3.727836   \n",
      "1                         507 - Seis - Sexta  40.448450  -3.596503   \n",
      "2  192 - Avda. de los Toreros - Fco. Silvela  40.431826  -3.671468   \n",
      "3                  333 - Illescas - Camarena  40.392175  -3.756232   \n",
      "4                     3 - Plaza Conde Suchil  40.430322  -3.707254   \n",
      "\n",
      "   free_bikes  empty_slots  \n",
      "0           9           14  \n",
      "1          19            5  \n",
      "2           9           17  \n",
      "3           9           14  \n",
      "4          12            7  \n"
     ]
    }
   ],
   "source": [
    "import pandas as pd\n",
    "\n",
    "# Step 2: Parse the JSON response\n",
    "response_data = response.json()\n",
    "\n",
    "# Step 3: Extract the bike station data\n",
    "subset_response_data = response_data['network']['stations']\n",
    "\n",
    "# Step 4: Normalize the data into a DataFrame\n",
    "bike_stations = pd.json_normalize(subset_response_data)\n",
    "\n",
    "# Step 5: Select only the desired columns\n",
    "columns_to_keep = ['id', 'name', 'latitude', 'longitude', 'free_bikes', 'empty_slots']\n",
    "bike_stations = bike_stations[columns_to_keep]\n",
    "\n",
    "# Step 6: Display the resulting DataFrame\n",
    "print(bike_stations.head())\n"
   ]
  },
  {
   "cell_type": "markdown",
   "metadata": {},
   "source": [
    "Put your parsed results into a DataFrame."
   ]
  },
  {
   "cell_type": "code",
   "execution_count": 3,
   "metadata": {},
   "outputs": [],
   "source": [
    "bike_stations.to_csv('../data/bike_stations_madrid.csv')"
   ]
  },
  {
   "cell_type": "code",
   "execution_count": null,
   "metadata": {},
   "outputs": [],
   "source": []
  }
 ],
 "metadata": {
  "kernelspec": {
   "display_name": "Python 3 (ipykernel)",
   "language": "python",
   "name": "python3"
  },
  "language_info": {
   "codemirror_mode": {
    "name": "ipython",
    "version": 3
   },
   "file_extension": ".py",
   "mimetype": "text/x-python",
   "name": "python",
   "nbconvert_exporter": "python",
   "pygments_lexer": "ipython3",
   "version": "3.12.7"
  }
 },
 "nbformat": 4,
 "nbformat_minor": 4
}
