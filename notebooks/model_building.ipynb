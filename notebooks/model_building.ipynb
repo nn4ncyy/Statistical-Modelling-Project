{
 "cells": [
  {
   "cell_type": "markdown",
   "metadata": {
    "editable": true,
    "slideshow": {
     "slide_type": ""
    },
    "tags": []
   },
   "source": [
    "Build a regression model."
   ]
  },
  {
   "cell_type": "code",
   "execution_count": 10,
   "metadata": {},
   "outputs": [
    {
     "name": "stdout",
     "output_type": "stream",
     "text": [
      "                                 id          station_name   latitude  \\\n",
      "0  01f5011f76069b1e81a11d4d51dd9d1d  377 - Metro Abrantes  40.380918   \n",
      "1  01f5011f76069b1e81a11d4d51dd9d1d  377 - Metro Abrantes  40.380918   \n",
      "2  01f5011f76069b1e81a11d4d51dd9d1d  377 - Metro Abrantes  40.380918   \n",
      "3  01f5011f76069b1e81a11d4d51dd9d1d  377 - Metro Abrantes  40.380918   \n",
      "4  01f5011f76069b1e81a11d4d51dd9d1d  377 - Metro Abrantes  40.380918   \n",
      "\n",
      "   longitude  free_bikes  empty_slots       restaurant_name     distance  \\\n",
      "0  -3.727836           9           14             IGo Pasta  1465.968046   \n",
      "1  -3.727836           9           14           Botafumeiro   769.947456   \n",
      "2  -3.727836           9           14                 Lurca    53.496441   \n",
      "3  -3.727836           9           14             Canaletto   269.769162   \n",
      "4  -3.727836           9           14  Cafetería Bar Dayton   209.521846   \n",
      "\n",
      "      address                      categories  rating  review_count  \n",
      "0  No address    Chinese, Asian Fusion, Ramen     3.8            23  \n",
      "1  No address  Tapas Bars, Dive Bars, Spanish     4.3             9  \n",
      "2  No address                     Restaurants     0.0             0  \n",
      "3  No address       Rotisserie Chicken, Pizza     4.5             2  \n",
      "4  No address                       Cafeteria     5.0             1  \n",
      "<class 'pandas.core.frame.DataFrame'>\n",
      "RangeIndex: 800 entries, 0 to 799\n",
      "Data columns (total 12 columns):\n",
      " #   Column           Non-Null Count  Dtype  \n",
      "---  ------           --------------  -----  \n",
      " 0   id               800 non-null    object \n",
      " 1   station_name     800 non-null    object \n",
      " 2   latitude         800 non-null    float64\n",
      " 3   longitude        800 non-null    float64\n",
      " 4   free_bikes       800 non-null    int64  \n",
      " 5   empty_slots      800 non-null    int64  \n",
      " 6   restaurant_name  800 non-null    object \n",
      " 7   distance         800 non-null    float64\n",
      " 8   address          800 non-null    object \n",
      " 9   categories       799 non-null    object \n",
      " 10  rating           800 non-null    float64\n",
      " 11  review_count     800 non-null    int64  \n",
      "dtypes: float64(4), int64(3), object(5)\n",
      "memory usage: 75.1+ KB\n",
      "None\n"
     ]
    }
   ],
   "source": [
    "import pandas as pd\n",
    "import statsmodels.api as sm\n",
    "\n",
    "# Load your cleaned data\n",
    "df = pd.read_csv('../data/bike_and_yelp.csv')\n",
    "\n",
    "# Inspect the first few rows\n",
    "print(df.head())\n",
    "print(df.info())\n",
    "\n",
    "# Define predictors (independent variables) and target (dependent variable)\n",
    "X = df[['distance', 'rating']].values  # Predictors\n",
    "y = df['free_bikes'].values  # Target\n",
    "\n",
    "# Add a constant to the predictors (for the intercept)\n",
    "X = sm.add_constant(X)  # Adds a column of ones\n",
    "\n",
    "# Fit the regression model\n",
    "model = sm.OLS(y, X).fit()\n",
    "\n"
   ]
  },
  {
   "cell_type": "markdown",
   "metadata": {},
   "source": [
    "Provide model output and an interpretation of the results. "
   ]
  },
  {
   "cell_type": "code",
   "execution_count": 11,
   "metadata": {},
   "outputs": [
    {
     "name": "stdout",
     "output_type": "stream",
     "text": [
      "                            OLS Regression Results                            \n",
      "==============================================================================\n",
      "Dep. Variable:                      y   R-squared:                       0.011\n",
      "Model:                            OLS   Adj. R-squared:                  0.009\n",
      "Method:                 Least Squares   F-statistic:                     4.617\n",
      "Date:                Fri, 10 Jan 2025   Prob (F-statistic):             0.0101\n",
      "Time:                        17:00:22   Log-Likelihood:                -2485.1\n",
      "No. Observations:                 800   AIC:                             4976.\n",
      "Df Residuals:                     797   BIC:                             4990.\n",
      "Df Model:                           2                                         \n",
      "Covariance Type:            nonrobust                                         \n",
      "==============================================================================\n",
      "                 coef    std err          t      P>|t|      [0.025      0.975]\n",
      "------------------------------------------------------------------------------\n",
      "const         10.3506      0.610     16.971      0.000       9.153      11.548\n",
      "x1            -0.0003      0.000     -0.959      0.338      -0.001       0.000\n",
      "x2             0.4603      0.152      3.037      0.002       0.163       0.758\n",
      "==============================================================================\n",
      "Omnibus:                      101.698   Durbin-Watson:                   0.122\n",
      "Prob(Omnibus):                  0.000   Jarque-Bera (JB):              146.909\n",
      "Skew:                           0.902   Prob(JB):                     1.26e-32\n",
      "Kurtosis:                       4.074   Cond. No.                     3.51e+03\n",
      "==============================================================================\n",
      "\n",
      "Notes:\n",
      "[1] Standard Errors assume that the covariance matrix of the errors is correctly specified.\n",
      "[2] The condition number is large, 3.51e+03. This might indicate that there are\n",
      "strong multicollinearity or other numerical problems.\n"
     ]
    }
   ],
   "source": [
    "print(model.summary())"
   ]
  },
  {
   "cell_type": "markdown",
   "metadata": {},
   "source": [
    "**Interpretation of Results:**"
   ]
  },
  {
   "cell_type": "markdown",
   "metadata": {},
   "source": [
    "This regression analysis was performed in order to determine if restaurant distance and rating are correlated with the number of free bikes available. Given the R-square value of 0.011, a poor fit is indicated, since 1.1% of the variation in free bikes is explained by the two variables. This suggests that other factors are stronger indicators that would better explain the free bike availability. Breaking down the variables individually, restaurant distance has a non-significant effect (coefficient = -0.0003, p = 0.338), which indicates no significant relationship between distance and bike availability. However, restaurant rating has a positive and statistically significant effect (coefficient = 0.4603, p = 0.002), suggesting that higher-rated restaurants are associated with more free bikes available. In conclusion, though there is a statistically significant effect in restaurant ratings, the overall model is limited, and further exploration with additional predictors is recommended."
   ]
  },
  {
   "cell_type": "markdown",
   "metadata": {},
   "source": [
    "# Stretch"
   ]
  },
  {
   "cell_type": "markdown",
   "metadata": {},
   "source": [
    "How can you turn the regression model into a classification model?"
   ]
  },
  {
   "cell_type": "code",
   "execution_count": 12,
   "metadata": {},
   "outputs": [
    {
     "name": "stdout",
     "output_type": "stream",
     "text": [
      "                                 id          station_name   latitude  \\\n",
      "0  01f5011f76069b1e81a11d4d51dd9d1d  377 - Metro Abrantes  40.380918   \n",
      "1  01f5011f76069b1e81a11d4d51dd9d1d  377 - Metro Abrantes  40.380918   \n",
      "2  01f5011f76069b1e81a11d4d51dd9d1d  377 - Metro Abrantes  40.380918   \n",
      "3  01f5011f76069b1e81a11d4d51dd9d1d  377 - Metro Abrantes  40.380918   \n",
      "4  01f5011f76069b1e81a11d4d51dd9d1d  377 - Metro Abrantes  40.380918   \n",
      "\n",
      "   longitude  free_bikes  empty_slots       restaurant_name     distance  \\\n",
      "0  -3.727836           9           14             IGo Pasta  1465.968046   \n",
      "1  -3.727836           9           14           Botafumeiro   769.947456   \n",
      "2  -3.727836           9           14                 Lurca    53.496441   \n",
      "3  -3.727836           9           14             Canaletto   269.769162   \n",
      "4  -3.727836           9           14  Cafetería Bar Dayton   209.521846   \n",
      "\n",
      "      address                      categories  rating  review_count  \n",
      "0  No address    Chinese, Asian Fusion, Ramen     3.8            23  \n",
      "1  No address  Tapas Bars, Dive Bars, Spanish     4.3             9  \n",
      "2  No address                     Restaurants     0.0             0  \n",
      "3  No address       Rotisserie Chicken, Pizza     4.5             2  \n",
      "4  No address                       Cafeteria     5.0             1  \n",
      "<class 'pandas.core.frame.DataFrame'>\n",
      "RangeIndex: 800 entries, 0 to 799\n",
      "Data columns (total 12 columns):\n",
      " #   Column           Non-Null Count  Dtype  \n",
      "---  ------           --------------  -----  \n",
      " 0   id               800 non-null    object \n",
      " 1   station_name     800 non-null    object \n",
      " 2   latitude         800 non-null    float64\n",
      " 3   longitude        800 non-null    float64\n",
      " 4   free_bikes       800 non-null    int64  \n",
      " 5   empty_slots      800 non-null    int64  \n",
      " 6   restaurant_name  800 non-null    object \n",
      " 7   distance         800 non-null    float64\n",
      " 8   address          800 non-null    object \n",
      " 9   categories       799 non-null    object \n",
      " 10  rating           800 non-null    float64\n",
      " 11  review_count     800 non-null    int64  \n",
      "dtypes: float64(4), int64(3), object(5)\n",
      "memory usage: 75.1+ KB\n",
      "None\n",
      "Optimization terminated successfully.\n",
      "         Current function value: 0.691764\n",
      "         Iterations 4\n",
      "                           Logit Regression Results                           \n",
      "==============================================================================\n",
      "Dep. Variable:      bike_availability   No. Observations:                  640\n",
      "Model:                          Logit   Df Residuals:                      637\n",
      "Method:                           MLE   Df Model:                            2\n",
      "Date:                Fri, 10 Jan 2025   Pseudo R-squ.:                0.001819\n",
      "Time:                        17:02:16   Log-Likelihood:                -442.73\n",
      "converged:                       True   LL-Null:                       -443.54\n",
      "Covariance Type:            nonrobust   LLR p-value:                    0.4462\n",
      "==============================================================================\n",
      "                 coef    std err          z      P>|z|      [0.025      0.975]\n",
      "------------------------------------------------------------------------------\n",
      "const         -0.2177      0.262     -0.832      0.406      -0.731       0.295\n",
      "distance    -7.34e-05      0.000     -0.508      0.611      -0.000       0.000\n",
      "rating         0.0820      0.065      1.256      0.209      -0.046       0.210\n",
      "==============================================================================\n",
      "\n",
      "Confusion Matrix:\n",
      "[[20 65]\n",
      " [19 56]]\n",
      "\n",
      "Classification Report:\n",
      "              precision    recall  f1-score   support\n",
      "\n",
      "           0       0.51      0.24      0.32        85\n",
      "           1       0.46      0.75      0.57        75\n",
      "\n",
      "    accuracy                           0.47       160\n",
      "   macro avg       0.49      0.49      0.45       160\n",
      "weighted avg       0.49      0.47      0.44       160\n",
      "\n"
     ]
    }
   ],
   "source": [
    "import pandas as pd\n",
    "import statsmodels.api as sm\n",
    "from sklearn.model_selection import train_test_split\n",
    "from sklearn.metrics import classification_report, confusion_matrix\n",
    "\n",
    "# Load your cleaned data\n",
    "df = pd.read_csv('../data/bike_and_yelp.csv')\n",
    "\n",
    "# Inspect the first few rows\n",
    "print(df.head())\n",
    "print(df.info())\n",
    "\n",
    "# Define the classification target\n",
    "# Convert 'free_bikes' into a binary target variable\n",
    "# Example: 1 if free_bikes >= median, 0 otherwise\n",
    "threshold = df['free_bikes'].median()\n",
    "df['bike_availability'] = (df['free_bikes'] >= threshold).astype(int)\n",
    "\n",
    "# Define predictors (independent variables) and target (dependent variable)\n",
    "X = df[['distance', 'rating']]  # Predictors\n",
    "y = df['bike_availability']     # Target (binary)\n",
    "\n",
    "# Add a constant to the predictors (for the intercept)\n",
    "X = sm.add_constant(X)  # Adds a column of ones\n",
    "\n",
    "# Split the data into training and test sets\n",
    "X_train, X_test, y_train, y_test = train_test_split(X, y, test_size=0.2, random_state=42)\n",
    "\n",
    "# Fit a logistic regression model using Statsmodels\n",
    "logit_model = sm.Logit(y_train, X_train).fit()\n",
    "\n",
    "# Print the logistic regression summary\n",
    "print(logit_model.summary())\n",
    "\n",
    "# Predict probabilities on the test set\n",
    "y_pred_prob = logit_model.predict(X_test)\n",
    "\n",
    "# Convert probabilities to binary predictions (using a threshold of 0.5)\n",
    "y_pred = (y_pred_prob >= 0.5).astype(int)\n",
    "\n",
    "# Evaluate the model\n",
    "print(\"\\nConfusion Matrix:\")\n",
    "print(confusion_matrix(y_test, y_pred))\n",
    "\n",
    "print(\"\\nClassification Report:\")\n",
    "print(classification_report(y_test, y_pred))\n"
   ]
  }
 ],
 "metadata": {
  "kernelspec": {
   "display_name": "Python 3 (ipykernel)",
   "language": "python",
   "name": "python3"
  },
  "language_info": {
   "codemirror_mode": {
    "name": "ipython",
    "version": 3
   },
   "file_extension": ".py",
   "mimetype": "text/x-python",
   "name": "python",
   "nbconvert_exporter": "python",
   "pygments_lexer": "ipython3",
   "version": "3.12.7"
  }
 },
 "nbformat": 4,
 "nbformat_minor": 4
}
